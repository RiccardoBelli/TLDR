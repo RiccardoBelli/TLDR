{
 "cells": [
  {
   "cell_type": "code",
   "execution_count": 1,
   "outputs": [],
   "source": [
    "path = 'data/emails.txt'\n",
    "with open(path, 'rb') as f:\n",
    "    text = f.read().decode('utf-8', errors='replace')"
   ],
   "metadata": {
    "collapsed": false
   }
  },
  {
   "cell_type": "code",
   "execution_count": 2,
   "outputs": [],
   "source": [
    "import re\n",
    "\n",
    "def remove_special_characters(dirty_text):\n",
    "    # The following pattern will match any character that is not a letter, number, basic punctuation, or `-` and ``\n",
    "    pattern = re.compile(r'[^a-zA-Z0-9\\s.,?!:;@#$%^&*()_+={}[\\]|\\\\<>/\"\\'`-]', flags=re.UNICODE)\n",
    "    clean_text = pattern.sub('', dirty_text)\n",
    "    return clean_text"
   ],
   "metadata": {
    "collapsed": false
   }
  },
  {
   "cell_type": "code",
   "execution_count": 3,
   "outputs": [],
   "source": [
    "def remove_minute_read(dirty_text):\n",
    "    minute_read_pattern = re.compile(r'\\(?\\d*\\s*minute\\s*read\\)?', re.IGNORECASE)\n",
    "    clean_text = re.sub(minute_read_pattern, '', dirty_text)\n",
    "    return clean_text"
   ],
   "metadata": {
    "collapsed": false
   }
  },
  {
   "cell_type": "code",
   "execution_count": 4,
   "outputs": [],
   "source": [
    "import quopri\n",
    "\n",
    "def decode_quoted_printable(coded_text):\n",
    "    decoded_text = quopri.decodestring(coded_text.encode('utf-8', errors='replace')).decode('utf-8', errors='replace')\n",
    "    return decoded_text"
   ],
   "metadata": {
    "collapsed": false
   }
  },
  {
   "cell_type": "code",
   "execution_count": 5,
   "outputs": [],
   "source": [
    "def remove_square_brackets_urls(dirty_text):\n",
    "    cleaned_text = re.sub(r'\\[.*?\\]', '', dirty_text)\n",
    "    return cleaned_text"
   ],
   "metadata": {
    "collapsed": false
   }
  },
  {
   "cell_type": "code",
   "execution_count": 6,
   "outputs": [],
   "source": [
    "def remove_blank_lines(dirty_text):\n",
    "    lines = dirty_text.splitlines()\n",
    "    cleaned_lines = [line.strip() for line in lines if line.strip()]\n",
    "    cleaned_text = '\\n'.join(cleaned_lines)\n",
    "    return cleaned_text"
   ],
   "metadata": {
    "collapsed": false
   }
  },
  {
   "cell_type": "code",
   "execution_count": 7,
   "outputs": [],
   "source": [
    "def cleanup_text(dirty_text):\n",
    "    dirty_text = decode_quoted_printable(dirty_text)\n",
    "    dirty_text = remove_special_characters(dirty_text)\n",
    "    dirty_text = remove_square_brackets_urls(dirty_text)\n",
    "    dirty_text = remove_minute_read(dirty_text)\n",
    "    clean_text = remove_blank_lines(dirty_text)\n",
    "    return clean_text\n",
    "\n",
    "text = cleanup_text(text)"
   ],
   "metadata": {
    "collapsed": false
   }
  },
  {
   "cell_type": "code",
   "execution_count": 8,
   "outputs": [],
   "source": [
    "def extract_sections(text, start_section, end_section):\n",
    "    # Define the regular expression pattern to match the desired sections\n",
    "    pattern = re.compile(r'(?i){}(.*?)(?={})'.format(re.escape(start_section), re.escape(end_section)), re.MULTILINE | re.DOTALL)\n",
    "    sections = re.findall(pattern, text)\n",
    "\n",
    "    return sections"
   ],
   "metadata": {
    "collapsed": false
   }
  },
  {
   "cell_type": "code",
   "execution_count": 9,
   "outputs": [
    {
     "name": "stdout",
     "output_type": "stream",
     "text": [
      "Big Tech & Startups: 240 sections extracted\n",
      "Science & Futuristic Technology: 251 sections extracted\n",
      "Programming, Design & Data Science: 266 sections extracted\n"
     ]
    }
   ],
   "source": [
    "arguments = [\n",
    "    \"Big Tech & Startups\",\n",
    "    \"Science & Futuristic Technology\",\n",
    "    \"Programming, Design & Data Science\",\n",
    "    \"Miscellaneous\"\n",
    "]\n",
    "\n",
    "text_by_argument = {}\n",
    "\n",
    "for i in range(len(arguments) - 1):\n",
    "    argument = arguments[i]\n",
    "    next_argument = arguments[i + 1]\n",
    "\n",
    "    text_by_argument[argument] = extract_sections(text, argument, next_argument)\n",
    "\n",
    "for section, content in text_by_argument.items():\n",
    "    print(f\"{section}: {len(content)} sections extracted\")"
   ],
   "metadata": {
    "collapsed": false
   }
  },
  {
   "cell_type": "code",
   "execution_count": 10,
   "outputs": [
    {
     "name": "stdout",
     "output_type": "stream",
     "text": [
      "\n",
      "BIG NEWS FROM MICROSOFT CTO ANDREAS BRAUN\n",
      "Microsoft CTO Andreas Braun announced that GPT-4 will be released as\n",
      "early as next week. The new model will be multimodal and will have\n",
      "video capabilities. The announcement was made during the 'AI in Focus\n",
      "- Digital Kickoff' hybrid event held on March 9 where Microsoft\n",
      "Germany employees presented LLMs like the GPT series.\n",
      "GOOGLE DUSTS OFF THE FAILED GOOGLE+ PLAYBOOK TO FIGHT CHATGPT\n",
      "Google was threatened by Facebook's rise to success in 2011. This\n",
      "prompted the company to issue a decree to its employees to build\n",
      "social features into everything, with their bonuses tied to Google's\n",
      "social success. The decree resulted in ham-fisted social integrations\n",
      "across Google that users despised, such as YouTube comments being tied\n",
      "to Google+ and the real name policy. Just like with the company's\n",
      "social panic, its current ChatGPT panic may see employees' ratings and\n",
      "reviews for promotions influenced by their ability to integrate\n",
      "artificial intelligence into their work.\n",
      "\n",
      "\n",
      "ELON MUSK WASTES NO TIME CHANGING TWITTER\n",
      "Elon Musk changed Twitter's homepage less than 24 hours after\n",
      "completing his acquisition of the company. The home page now redirects\n",
      "to the Explore page. Musk also ordered that the paid subscription\n",
      "feature be renamed to Subscriptions. These sorts of changes would have\n",
      "taken weeks of discussion to implement in the old Twitter. Musk fired\n",
      "top execs 'for cause' to avoid paying out the stock that they would\n",
      "otherwise receive. Managers are now deciding which staff will be laid\n",
      "off.\n",
      "IPHONE 15 PRO MODELS COULD DITCH MECHANICAL VOLUME AND POWER BUTTONS\n",
      "The next generation of iPhone Pro models might use solid-state toggles\n",
      "for their volume and power buttons. The buttons will provide force\n",
      "feedback to make users feel like they are pressing physical buttons.\n",
      "The base model iPhone 15 models will likely keep their mechanical\n",
      "buttons. Apple may be implementing the Dynamic Island feature on all\n",
      "models of the iPhone 15. The iPhone 15 is expected to be the first\n",
      "iPhone to have USB-C.\n",
      "\n",
      "\n",
      "ELON MUSK PLANNING VINE REBOOT AFTER TWITTER ACQUISITION\n",
      "Twitter engineers have been tasked with creating an updated version of\n",
      "Vine that could launch before the end of the year. The company\n",
      "acquired Vine back in 2012 but shut it down in 2016. Elon Musk tweeted\n",
      "a poll asking if he should bring back Vine and 69.5% of the\n",
      "respondents said yes. A rebooted version of Vine could compete with\n",
      "TikTok.\n",
      "META MYTHS\n",
      "Facebook is not losing users - it is still adding millions of users\n",
      "around the world, and people aren't leaving the platform. TikTok is\n",
      "only depressing growth on Instagram, not reversing it. Reels is\n",
      "growing and its growth is preventing users from leaving the platform\n",
      "for TikTok. There are still plenty of ads on Facebook, mostly from\n",
      "newer online companies. Meta's spending is necessary and its\n",
      "investments are likely to pay off in the long run.\n",
      "\n",
      "\n",
      "RIP GOOGLE HANGOUTS, GOOGLES LAST, BEST CHANCE TO COMPETE WITH\n",
      "IMESSAGE\n",
      "Google Hangouts has been shut down. Hangouts data has been moved to\n",
      "Google Chat. Google still doesn't have a competitive messaging\n",
      "platform. Hangouts was designed to unify Google's messaging portfolio,\n",
      "allowing users to access all of their communications within a single\n",
      "messaging app in one easy-to-use interface. It could have been a good\n",
      "competitor against iMessage, especially with its wide cross-platform\n",
      "compatibility.\n",
      "ELON MUSK FLOATS $8 TWITTER SUBSCRIPTION THAT INCLUDES VERIFICATION,\n",
      "LONG-FORM VIDEO AND AUDIO POSTING AND FEWER ADS\n",
      "Elon Musk has suggested an $8 per month subscription for the new\n",
      "Twitter Blue service. The price of the subscription will be adjusted\n",
      "according to country, suggesting that it will be launched globally.\n",
      "The new plan will include features such as fewer ads, the ability to\n",
      "post longer videos, and priority in replies, mentions, and search.\n",
      "Musk has set very aggressive deadlines for the revamp.\n",
      "\n",
      "\n",
      "APPLE SLASHES BUDGETS AND IMPLEMENTS BROAD HIRING FREEZE, REPORT\n",
      "CLAIMS\n",
      "A report claims that Apple has paused almost all hiring. The company\n",
      "had announced a slowdown in hiring earlier this year, but it said that\n",
      "it would still be hiring on a deliberate basis. Apple reportedly has\n",
      "not designated any of its budget for new staff in the coming year. The\n",
      "hiring freeze is expected to continue through to late 2023.\n",
      "NETFLIX WITH ADS LAUNCHING AS TALKS CONTINUE WITH STUDIOS OVER CONTENT\n",
      "Netflix is launching its ad-supported tier today in the US for $6.99 a\n",
      "month. The company is currently still in talks with several major\n",
      "studios to finalize licensing agreements. The new tier doesn't include\n",
      "Netflix's complete library. Customers will see around four to five\n",
      "minutes of ads per hour of content.\n",
      "\n",
      "\n",
      "ELON MUSK BARS TWITTER EMPLOYEES FROM THE COMPANY'S OFFICES IN THE RUN\n",
      "UP TO LAYOFFS, UNLESS STAFF ARE WORKING ON ONE OF HIS 'CRITICAL'\n",
      "PROJECTS\n",
      "Twitter offices are closed to employees except for those directly\n",
      "working on 'Elon critical' projects. The company sent out an email on\n",
      "Thursday evening to employees informing them that there will be\n",
      "layoffs on Friday. Employees that are being let go will be informed by\n",
      "an email sent to their personal inbox. Twitter will reportedly let go\n",
      "of more than 3,700 employees, around half of its workforce.\n",
      "SMART HOME FIRMS HYPE MATTER LAUNCH  WITH LOTS OF CAVEATS AND\n",
      "PROMISES\n",
      "The Matter standard was recently launched at the Connectivity\n",
      "Standards Alliance's Matter Launch Event in Amsterdam. More than 190\n",
      "devices have been certified for Matter since the standard was\n",
      "finalized in October. This article highlights some of the\n",
      "announcements and devices shown off by companies like Amazon, Samsung,\n",
      "Hue, Eve, and Aqara at the event. Most companies announced more new\n",
      "products with Matter support than updates to existing products.\n",
      "\n",
      "\n",
      "FACEBOOK PARENT META IS PREPARING TO NOTIFY EMPLOYEES OF LARGE-SCALE\n",
      "LAYOFFS THIS WEEK\n",
      "Meta is planning to begin large-scale layoffs this week. The\n",
      "announcement, expected to come as soon as Wednesday, will affect many\n",
      "thousands of employees. It will be the first broad head-count\n",
      "reduction to occur in Meta's 18-year history and could potentially be\n",
      "the largest job cut ever at a major technology corporation. Meta had\n",
      "more than 87,000 employees at the end of September. It has added more\n",
      "than 42,000 employees since 2020.\n",
      "STARLINK IS GETTING DAYTIME DATA CAPS\n",
      "Starlink will start throttling internet for residential customers who\n",
      "use more than 1TB of Priority Access data per month during peak hours\n",
      "beginning in December. Customers will start each billing cycle with an\n",
      "allocation of Priority Access data for use between 7 AM and 11 PM.\n",
      "Usage outside those hours doesn't count towards the 1TB cap.\n",
      "Customers' data will be deprioritized for the rest of the month if\n",
      "they exceed the cap. Extra Priority Access data can be purchased for\n",
      "25 cents per GB.\n",
      "\n",
      "\n",
      "TWITTER TELLS ADVERTISERS THAT USER GROWTH IS AT ALL-TIME HIGHS\n",
      "UNDER ELON MUSK\n",
      "Twitter's monetizable daily user growth has accelerated to more than\n",
      "20% since Elon Musk's takeover. The growth indicates that users are\n",
      "not leaving the platform en masse. Many advertisers have left Twitter\n",
      "due to activist pressure, resulting in a massive drop in revenue for\n",
      "the company. The level of hate speech on the platform remains within\n",
      "historical norms.\n",
      "LG DISPLAY DEVELOPS STRETCHABLE DISPLAY THAT ELONGATES BY 20%\n",
      "LG has developed a stretchable display that can be elongated from\n",
      "12-inches in size to 14-inches. Stretchable displays are considered to\n",
      "be the next step of evolution for displays after rollable and foldable\n",
      "displays. The full-color display could find many applications within\n",
      "wearable technologies. LG has been developing the display since 2020\n",
      "in collaboration with 20 South Korean research institutes.\n",
      "\n",
      "\n",
      "ELON MUSK HAS DISCUSSED PUTTING ALL OF TWITTER BEHIND A PAYWALL\n",
      "Elon Musk discussed the idea of charging all users a subscription fee\n",
      "for using Twitter during recent meetings. He also discussed reducing\n",
      "ad load for Twitter Blue subscribers. Employees reportedly suggested\n",
      "adding more paid features for business customers, but the idea was\n",
      "dismissed. Most of the company is currently sitting idle as they wait\n",
      "to find out who their managers and teams are.\n",
      "TWITTERS SOLUTION FOR RUINING VERIFICATION IS ANOTHER CHECKMARK\n",
      "Twitter is rolling out a new gray 'Official' checkmark for\n",
      "governments, companies, and public figures. The change will help users\n",
      "distinguish between Twitter Blue subscribers and accounts that are\n",
      "verified as official. The Official checkmark can't be bought and only\n",
      "Twitter can determine who gets it. Anyone impersonating an official\n",
      "account without clearly identifying themselves as a parody will be\n",
      "permanently banned from the platform.\n",
      "\n",
      "\n",
      "META LAYING OFF MORE THAN 11,000 THOUSAND EMPLOYEES\n",
      "Meta is laying off 13% of its staff. The company's performance has\n",
      "spooked investors and caused share prices to sink. Meta's rising\n",
      "costs, as well as its heavy investment into the metaverse, have caused\n",
      "investors to become concerned. Meta anticipates that its losses will\n",
      "grow significantly year-over-year.\n",
      "ELON MUSK OUTLINES AMBITIOUS PAYMENTS VISION FOR TWITTER\n",
      "Elon Musk outlined his ideas for bringing payments to Twitter during a\n",
      "conversation with advertisers on Twitter Spaces on Monday. The ideas\n",
      "include offering high-yield money market accounts, debit cards, and\n",
      "peer-to-peer transactions. Musk co-founded one of the first online\n",
      "banks, X.com, in 1999. Twitter registered with the US Treasury as a\n",
      "payments processor on Friday.\n",
      "\n"
     ]
    }
   ],
   "source": [
    "def print_first_10_sections(sections):\n",
    "    for i, section in enumerate(sections[:10], start=1):\n",
    "        print(section)\n",
    "\n",
    "#print the first 10 extracted section for the BIG TECH & STARTUPS argument\n",
    "print_first_10_sections(text_by_argument[arguments[0]])"
   ],
   "metadata": {
    "collapsed": false
   }
  }
 ],
 "metadata": {
  "kernelspec": {
   "display_name": "Python 3",
   "language": "python",
   "name": "python3"
  },
  "language_info": {
   "codemirror_mode": {
    "name": "ipython",
    "version": 2
   },
   "file_extension": ".py",
   "mimetype": "text/x-python",
   "name": "python",
   "nbconvert_exporter": "python",
   "pygments_lexer": "ipython2",
   "version": "2.7.6"
  }
 },
 "nbformat": 4,
 "nbformat_minor": 0
}
