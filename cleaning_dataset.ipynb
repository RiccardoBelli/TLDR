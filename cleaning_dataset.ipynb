{
 "cells": [
  {
   "cell_type": "code",
   "execution_count": 1,
   "metadata": {
    "collapsed": false,
    "jupyter": {
     "outputs_hidden": false
    }
   },
   "outputs": [],
   "source": [
    "path = 'data/emails.txt'\n",
    "with open(path, 'rb') as f:\n",
    "    text = f.read().decode('utf-8', errors='ignore')"
   ]
  },
  {
   "cell_type": "code",
   "execution_count": 2,
   "metadata": {
    "collapsed": false,
    "jupyter": {
     "outputs_hidden": false
    }
   },
   "outputs": [],
   "source": [
    "import re\n",
    "\n",
    "def remove_html_tags(text_with_html):\n",
    "    # Define a regular expression pattern to match HTML tags\n",
    "    html_tag_pattern = re.compile('<.*?>')\n",
    "\n",
    "    # Use the `sub` method to replace all matched HTML tags with an empty string\n",
    "    text_without_html = re.sub(html_tag_pattern, '', text_with_html)\n",
    "\n",
    "    return text_without_html\n",
    "\n",
    "text = remove_html_tags(text)"
   ]
  },
  {
   "cell_type": "code",
   "execution_count": 3,
   "metadata": {
    "collapsed": false,
    "jupyter": {
     "outputs_hidden": false
    }
   },
   "outputs": [],
   "source": [
    "import regex\n",
    "\n",
    "def cleanup(dirty_text):\n",
    "\n",
    "    # Define a regular expression pattern to match nested square brackets\n",
    "    square_brackets_pattern = regex.compile(r'\\[(?:[^[\\]]*|(?R))*\\]')\n",
    "    dirty_text = regex.sub(square_brackets_pattern, '', dirty_text)\n",
    "\n",
    "    # Define a regular expression pattern to match text inside square brackets\n",
    "    square_brackets_pattern = re.compile(r'\\[.*?\\]')\n",
    "    dirty_text = re.sub(square_brackets_pattern, '', dirty_text)\n",
    "\n",
    "    # Weird character\n",
    "    dirty_text = dirty_text.replace(\"=E2=80=99\", \"`\")\n",
    "\n",
    "    # Define a regular expression pattern to match '=E2=80=' followed by a number\n",
    "    e2_80_sequence_pattern = re.compile(r'=E2=80=\\d+')\n",
    "    dirty_text = re.sub(e2_80_sequence_pattern, '', dirty_text)\n",
    "\n",
    "    # Define a regular expression pattern to match sequences starting with '=' and ending with a number\n",
    "    equals_sequence_pattern = re.compile(r'=([A-F0-9]{2}=)+\\d+')\n",
    "    dirty_text = re.sub(equals_sequence_pattern, '', dirty_text)\n",
    "\n",
    "    # Define a regular expression pattern to match '=' followed by any non-letter characters\n",
    "    equals_non_letters_pattern = re.compile('=([^a-zA-Z]+)')\n",
    "    dirty_text = re.sub(equals_non_letters_pattern, '', dirty_text)\n",
    "\n",
    "    clean_text = dirty_text.replace(\"=E2\", \"`\")\n",
    "\n",
    "    return clean_text\n",
    "\n",
    "def remove_minute_read(text):\n",
    "    # Define a regular expression pattern to match the sequence\n",
    "    minute_read_pattern = re.compile(r'\\(?\\d*\\s*MINUTE\\s*READ\\)?', re.IGNORECASE)\n",
    "\n",
    "    # Use the `sub` method to replace all matched sequences with an empty string\n",
    "    clean_text = re.sub(minute_read_pattern, '', text)\n",
    "\n",
    "    return clean_text\n",
    "\n",
    "text = cleanup(text)\n",
    "text = remove_minute_read(text)"
   ]
  },
  {
   "cell_type": "code",
   "execution_count": 4,
   "metadata": {
    "collapsed": false,
    "jupyter": {
     "outputs_hidden": false
    }
   },
   "outputs": [],
   "source": [
    "arguments = [\n",
    "    \"BIG TECH & STARTUPS\",\n",
    "    \"SCIENCE & FUTURISTIC TECHNOLOGY\",\n",
    "    \"PROGRAMMING, DESIGN & DATA SCIENCE\",\n",
    "    \"MISCELLANEOUS\"\n",
    "]\n",
    "\n",
    "def extract_sections(text, start_section, end_section):\n",
    "    # Define the regular expression pattern to match the desired sections\n",
    "    pattern = re.compile(r'(?i){}(.*?)(?={})'.format(re.escape(start_section), re.escape(end_section)), re.MULTILINE | re.DOTALL)\n",
    "    sections = re.findall(pattern, text)\n",
    "\n",
    "    return sections"
   ]
  },
  {
   "cell_type": "code",
   "execution_count": 5,
   "metadata": {
    "collapsed": false,
    "jupyter": {
     "outputs_hidden": false
    }
   },
   "outputs": [
    {
     "name": "stdout",
     "output_type": "stream",
     "text": [
      "BIG TECH & STARTUPS: 213 sections extracted\n",
      "SCIENCE & FUTURISTIC TECHNOLOGY: 212 sections extracted\n",
      "PROGRAMMING, DESIGN & DATA SCIENCE: 240 sections extracted\n"
     ]
    }
   ],
   "source": [
    "text_by_argument = {}\n",
    "\n",
    "# Iterate through the sections_to_extract list using indices\n",
    "for i in range(len(arguments) - 1):\n",
    "    argument = arguments[i]\n",
    "    next_argument = arguments[i + 1]\n",
    "\n",
    "    text_by_argument[argument] = extract_sections(text, argument, next_argument)\n",
    "\n",
    "for section, content in text_by_argument.items():\n",
    "    print(f\"{section}: {len(content)} sections extracted\")"
   ]
  },
  {
   "cell_type": "code",
   "execution_count": 6,
   "metadata": {},
   "outputs": [],
   "source": [
    "#pattern  to separate 2 articles that are paired together\n",
    "pattern = r\"\\.(?=\\b[A-Z]{2,})\"\n",
    "\n",
    "#foreach article found add it to a list of articles\n",
    "articles_by_argument = {}\n",
    "\n",
    "for i in range(len(arguments) - 1):\n",
    "    argument = arguments[i]\n",
    "    articles_by_argument[argument] = []\n",
    "    for j, section in enumerate(text_by_argument[argument], start=1):\n",
    "        articles = re.split(pattern, section)\n",
    "        for art in articles:\n",
    "            articles_by_argument[argument].append(art)\n"
   ]
  },
  {
   "cell_type": "code",
   "execution_count": 13,
   "metadata": {
    "collapsed": false,
    "jupyter": {
     "outputs_hidden": false
    }
   },
   "outputs": [
    {
     "name": "stdout",
     "output_type": "stream",
     "text": [
      "training  has  197\n",
      "test  has  197\n",
      "validation  has  1586\n"
     ]
    }
   ],
   "source": [
    "dataSplitInto = [\n",
    "    \"training\",\n",
    "    \"test\",\n",
    "    \"validation\"\n",
    "]\n",
    "\n",
    "def trainingTestValidation(trainPercent, testPercent):\n",
    "    text_dict = {}\n",
    "    \n",
    "    for splitArea in dataSplitInto:\n",
    "        text_dict[splitArea] = []\n",
    "    \n",
    "    for i in range(len(arguments) - 1):\n",
    "        argument = arguments[i]\n",
    "        value = articles_by_argument[argument]\n",
    "        \n",
    "        p_train = int(len(value) * trainPercent)\n",
    "        p_test = int(len(value) * testPercent)\n",
    "        p_valid = len(value) - p_train - p_test\n",
    "        \n",
    "        for i, section in enumerate(value[:p_train], start=1):\n",
    "            text_dict[\"training\"].append(section)\n",
    "        \n",
    "        for i, section in enumerate(value[p_train:p_train+p_test], start=1):\n",
    "            text_dict[\"test\"].append(section)\n",
    "        \n",
    "        for i, section in enumerate(value[-p_valid:], start=1):\n",
    "            text_dict[\"validation\"].append(section)      \n",
    "                    \n",
    "    return text_dict\n",
    "\n",
    "separated_text = trainingTestValidation(0.1,0.1)\n",
    "\n",
    "for key, value in separated_text.items():\n",
    "    print(key, \" has \", len(value))"
   ]
  },
  {
   "cell_type": "code",
   "execution_count": null,
   "metadata": {},
   "outputs": [],
   "source": []
  }
 ],
 "metadata": {
  "kernelspec": {
   "display_name": "Python 3 (ipykernel)",
   "language": "python",
   "name": "python3"
  },
  "language_info": {
   "codemirror_mode": {
    "name": "ipython",
    "version": 3
   },
   "file_extension": ".py",
   "mimetype": "text/x-python",
   "name": "python",
   "nbconvert_exporter": "python",
   "pygments_lexer": "ipython3",
   "version": "3.10.10"
  }
 },
 "nbformat": 4,
 "nbformat_minor": 4
}
