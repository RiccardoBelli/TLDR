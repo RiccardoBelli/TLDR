{
 "cells": [
  {
   "cell_type": "code",
   "execution_count": null,
   "metadata": {
    "collapsed": true
   },
   "outputs": [],
   "source": [
    "import pandas as pd\n",
    "from sklearn.feature_extraction.text import CountVectorizer, TfidfVectorizer\n",
    "from sklearn.linear_model import LogisticRegression\n",
    "from sklearn.metrics import classification_report\n",
    "from sklearn.naive_bayes import MultinomialNB\n",
    "from sklearn.pipeline import make_pipeline\n",
    "from sklearn.preprocessing import MaxAbsScaler\n",
    "\n",
    "target_names = [\n",
    "    \"Big Tech & Startups\",\n",
    "    \"Science & Futuristic Technology\",\n",
    "    \"Programming, Design & Data Science\",\n",
    "]"
   ]
  },
  {
   "cell_type": "code",
   "execution_count": null,
   "outputs": [],
   "source": [
    "def load_datasets(prefix):\n",
    "    train_df = pd.read_pickle(f'data/{prefix}_training.pkl')\n",
    "    validation_df = pd.read_pickle(f'data/{prefix}_validation.pkl')\n",
    "    test_df = pd.read_pickle(f'data/{prefix}_test.pkl')\n",
    "\n",
    "    return train_df, validation_df, test_df"
   ],
   "metadata": {
    "collapsed": false
   }
  },
  {
   "cell_type": "code",
   "execution_count": null,
   "outputs": [],
   "source": [
    "# Load the datasets\n",
    "articles_train_df, articles_validation_df, articles_test_df = load_datasets(\"articles\")\n",
    "sentences_train_df, sentences_validation_df, sentences_test_df = load_datasets(\"sentences\")\n",
    "\n",
    "# Prepare the data and labels for articles\n",
    "articles_training_data = articles_train_df['text'].tolist()\n",
    "articles_training_labels = articles_train_df['category_code'].tolist()\n",
    "articles_test_data = articles_test_df['text'].tolist()\n",
    "articles_test_labels = articles_test_df['category_code'].tolist()\n",
    "\n",
    "# Prepare the data and labels for sentences\n",
    "sentences_training_data = sentences_train_df['text'].tolist()\n",
    "sentences_training_labels = sentences_train_df['category_code'].tolist()\n",
    "sentences_test_data = sentences_test_df['text'].tolist()\n",
    "sentences_test_labels = sentences_test_df['category_code'].tolist()"
   ],
   "metadata": {
    "collapsed": false
   }
  },
  {
   "cell_type": "code",
   "execution_count": null,
   "outputs": [],
   "source": [
    "def train_and_evaluate_multinomial_nb(training_data, training_labels, test_data, test_labels):\n",
    "    vectorizer = CountVectorizer()\n",
    "    training_features = vectorizer.fit_transform(training_data)\n",
    "    test_features = vectorizer.transform(test_data)\n",
    "\n",
    "    classifier = MultinomialNB()\n",
    "    classifier.fit(training_features, training_labels)\n",
    "    predictions = classifier.predict(test_features)\n",
    "\n",
    "    return classification_report(test_labels, predictions, target_names=target_names)"
   ],
   "metadata": {
    "collapsed": false
   }
  },
  {
   "cell_type": "code",
   "execution_count": null,
   "outputs": [],
   "source": [
    "def train_and_evaluate_logistic_regression(training_data, training_labels, test_data, test_labels):\n",
    "    vectorizer = CountVectorizer()\n",
    "    training_features = vectorizer.fit_transform(training_data)\n",
    "    test_features = vectorizer.transform(test_data)\n",
    "\n",
    "    pipeline = make_pipeline(MaxAbsScaler(), LogisticRegression())\n",
    "    pipeline.fit(training_features, training_labels)\n",
    "    predictions = pipeline.predict(test_features)\n",
    "\n",
    "    return classification_report(test_labels, predictions, target_names=target_names)"
   ],
   "metadata": {
    "collapsed": false
   }
  },
  {
   "cell_type": "code",
   "execution_count": null,
   "outputs": [],
   "source": [
    "def train_and_evaluate_tfidf_logistic_regression(training_data, training_labels, test_data, test_labels):\n",
    "    vectorizer = TfidfVectorizer()\n",
    "    training_features = vectorizer.fit_transform(training_data)\n",
    "    test_features = vectorizer.transform(test_data)\n",
    "\n",
    "    classifier = LogisticRegression()\n",
    "    classifier.fit(training_features, training_labels)\n",
    "    predictions = classifier.predict(test_features)\n",
    "\n",
    "    return classification_report(test_labels, predictions, target_names=target_names)"
   ],
   "metadata": {
    "collapsed": false
   }
  },
  {
   "cell_type": "code",
   "execution_count": null,
   "outputs": [],
   "source": [
    "print(\"MultinomialNB for articles:\")\n",
    "print(train_and_evaluate_multinomial_nb(articles_training_data, articles_training_labels, articles_test_data, articles_test_labels))\n",
    "\n",
    "print(\"Logistic Regression for articles:\")\n",
    "print(train_and_evaluate_logistic_regression(articles_training_data, articles_training_labels, articles_test_data, articles_test_labels))\n",
    "\n",
    "print(\"TF-IDF Logistic Regression for articles:\")\n",
    "print(train_and_evaluate_tfidf_logistic_regression(articles_training_data, articles_training_labels, articles_test_data, articles_test_labels))"
   ],
   "metadata": {
    "collapsed": false
   }
  },
  {
   "cell_type": "code",
   "execution_count": null,
   "outputs": [],
   "source": [
    "print(\"MultinomialNB for sentences:\")\n",
    "print(train_and_evaluate_multinomial_nb(sentences_training_data, sentences_training_labels, sentences_test_data, sentences_test_labels))\n",
    "\n",
    "print(\"Logistic Regression for sentences:\")\n",
    "print(train_and_evaluate_logistic_regression(sentences_training_data, sentences_training_labels, sentences_test_data, sentences_test_labels))\n",
    "\n",
    "print(\"TF-IDF Logistic Regression for sentences:\")\n",
    "print(train_and_evaluate_tfidf_logistic_regression(sentences_training_data, sentences_training_labels, sentences_test_data, sentences_test_labels))"
   ],
   "metadata": {
    "collapsed": false
   }
  }
 ],
 "metadata": {
  "kernelspec": {
   "display_name": "Python 3",
   "language": "python",
   "name": "python3"
  },
  "language_info": {
   "codemirror_mode": {
    "name": "ipython",
    "version": 2
   },
   "file_extension": ".py",
   "mimetype": "text/x-python",
   "name": "python",
   "nbconvert_exporter": "python",
   "pygments_lexer": "ipython2",
   "version": "2.7.6"
  }
 },
 "nbformat": 4,
 "nbformat_minor": 0
}
