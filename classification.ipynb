{
 "cells": [
  {
   "cell_type": "code",
   "execution_count": null,
   "metadata": {
    "collapsed": true
   },
   "outputs": [],
   "source": [
    "import pandas as pd\n",
    "from sklearn.feature_extraction.text import CountVectorizer, TfidfVectorizer\n",
    "from sklearn.linear_model import LogisticRegression\n",
    "from sklearn.metrics import classification_report\n",
    "from sklearn.naive_bayes import MultinomialNB\n",
    "from sklearn.pipeline import make_pipeline\n",
    "from sklearn.preprocessing import MaxAbsScaler\n",
    "\n",
    "target_names = [\n",
    "    \"Big Tech & Startups\",\n",
    "    \"Science & Futuristic Technology\",\n",
    "    \"Programming, Design & Data Science\",\n",
    "]"
   ]
  },
  {
   "cell_type": "code",
   "execution_count": null,
   "outputs": [],
   "source": [
    "def load_datasets(prefix):\n",
    "    train_df = pd.read_pickle(f'data/{prefix}_training.pkl')\n",
    "    validation_df = pd.read_pickle(f'data/{prefix}_validation.pkl')\n",
    "    test_df = pd.read_pickle(f'data/{prefix}_test.pkl')\n",
    "\n",
    "    return train_df, validation_df, test_df"
   ],
   "metadata": {
    "collapsed": false
   }
  },
  {
   "cell_type": "code",
   "execution_count": null,
   "outputs": [],
   "source": [
    "def get_texts_and_categories(dataframe):\n",
    "    text_data =  dataframe['text'].tolist()\n",
    "    category_data = dataframe['category_code'].tolist()\n",
    "    return text_data, category_data"
   ],
   "metadata": {
    "collapsed": false
   }
  },
  {
   "cell_type": "code",
   "execution_count": null,
   "outputs": [],
   "source": [
    "# Load the datasets\n",
    "articles_train_df, articles_validation_df, articles_test_df = load_datasets(\"articles\")\n",
    "sentences_train_df, sentences_validation_df, sentences_test_df = load_datasets(\"sentences\")\n",
    "\n",
    "# Prepare the data and labels for articles\n",
    "articles_training_data, articles_training_labels = get_texts_and_categories(articles_train_df)\n",
    "articles_validation_data, articles_validation_labels = get_texts_and_categories(articles_validation_df)\n",
    "articles_test_data, articles_test_labels = get_texts_and_categories(articles_test_df)\n",
    "\n",
    "# Prepare the data and labels for sentences\n",
    "sentences_training_data, sentences_training_labels = get_texts_and_categories(sentences_train_df)\n",
    "sentences_validation_data, sentences_validation_labels = get_texts_and_categories(sentences_validation_df)\n",
    "sentences_test_data, sentences_test_labels = get_texts_and_categories(sentences_test_df)"
   ],
   "metadata": {
    "collapsed": false
   }
  },
  {
   "cell_type": "code",
   "execution_count": null,
   "outputs": [],
   "source": [
    "def train_and_evaluate_multinomial_nb(training_data, training_labels, test_data):\n",
    "    vectorizer = CountVectorizer()\n",
    "    training_features = vectorizer.fit_transform(training_data)\n",
    "    test_features = vectorizer.transform(test_data)\n",
    "\n",
    "    classifier = MultinomialNB()\n",
    "    classifier.fit(training_features, training_labels)\n",
    "    predictions = classifier.predict(test_features)\n",
    "\n",
    "    return predictions"
   ],
   "metadata": {
    "collapsed": false
   }
  },
  {
   "cell_type": "code",
   "execution_count": null,
   "outputs": [],
   "source": [
    "def train_and_evaluate_logistic_regression(training_data, training_labels, test_data):\n",
    "    vectorizer = CountVectorizer()\n",
    "    training_features = vectorizer.fit_transform(training_data)\n",
    "    test_features = vectorizer.transform(test_data)\n",
    "\n",
    "    pipeline = make_pipeline(MaxAbsScaler(), LogisticRegression())\n",
    "    pipeline.fit(training_features, training_labels)\n",
    "    predictions = pipeline.predict(test_features)\n",
    "\n",
    "    return predictions"
   ],
   "metadata": {
    "collapsed": false
   }
  },
  {
   "cell_type": "code",
   "execution_count": null,
   "outputs": [],
   "source": [
    "def train_and_evaluate_tfidf_logistic_regression(training_data, training_labels, test_data):\n",
    "    vectorizer = TfidfVectorizer()\n",
    "    training_features = vectorizer.fit_transform(training_data)\n",
    "    test_features = vectorizer.transform(test_data)\n",
    "\n",
    "    classifier = LogisticRegression()\n",
    "    classifier.fit(training_features, training_labels)\n",
    "    predictions = classifier.predict(test_features)\n",
    "\n",
    "    return predictions"
   ],
   "metadata": {
    "collapsed": false
   }
  },
  {
   "cell_type": "code",
   "execution_count": null,
   "outputs": [],
   "source": [
    "import seaborn as sns\n",
    "import matplotlib.pyplot as plt\n",
    "from sklearn.metrics import confusion_matrix\n",
    "\n",
    "def plot_confusion_matrix(true_labels, predicted_labels, target_names, title):\n",
    "    cm = confusion_matrix(true_labels, predicted_labels, labels=[i for i in range(len(target_names))])\n",
    "\n",
    "    plt.figure(figsize=(6, 6))\n",
    "    sns.heatmap(cm, annot=True, fmt='d', xticklabels=target_names, yticklabels=target_names, cmap=\"YlGnBu\")\n",
    "    plt.title(title)\n",
    "    plt.xlabel(\"Predicted\")\n",
    "    plt.ylabel(\"True\")\n",
    "    plt.show()"
   ],
   "metadata": {
    "collapsed": false
   }
  },
  {
   "cell_type": "code",
   "execution_count": null,
   "outputs": [],
   "source": [
    "from TLDR.dummy_predictor import DummyPredictor\n",
    "dummy_predictor = DummyPredictor()\n",
    "\n",
    "print(\"Baseline for articles:\")\n",
    "predictions_dummy_articles = dummy_predictor.evaluate(articles_test_data)\n",
    "print(classification_report(articles_test_labels, predictions_dummy_articles, target_names=target_names))\n",
    "plot_confusion_matrix(articles_test_labels, predictions_dummy_articles, target_names, title='Confusion Matrix for Baseline Articles')"
   ],
   "metadata": {
    "collapsed": false
   }
  },
  {
   "cell_type": "code",
   "execution_count": null,
   "outputs": [],
   "source": [
    "print(\"MultinomialNB for articles:\")\n",
    "predictions_mnb_articles = train_and_evaluate_multinomial_nb(articles_training_data, articles_training_labels, articles_test_data)\n",
    "print(classification_report(articles_test_labels, predictions_mnb_articles, target_names=target_names))\n",
    "plot_confusion_matrix(articles_test_labels, predictions_mnb_articles, target_names, title='Confusion Matrix for MultinomialNB Articles')"
   ],
   "metadata": {
    "collapsed": false
   }
  },
  {
   "cell_type": "code",
   "execution_count": null,
   "outputs": [],
   "source": [
    "print(\"Logistic Regression for articles:\")\n",
    "predictions_lr_articles = train_and_evaluate_logistic_regression(articles_training_data, articles_training_labels, articles_test_data)\n",
    "print(classification_report(articles_test_labels, predictions_lr_articles, target_names=target_names))\n",
    "plot_confusion_matrix(articles_test_labels, predictions_lr_articles, target_names, title='Confusion Matrix for Logistic Regression Articles')"
   ],
   "metadata": {
    "collapsed": false
   }
  },
  {
   "cell_type": "code",
   "execution_count": null,
   "outputs": [],
   "source": [
    "print(\"TF-IDF Logistic Regression for articles:\")\n",
    "predictions_tfidf_lr_articles = train_and_evaluate_tfidf_logistic_regression(articles_training_data, articles_training_labels, articles_test_data)\n",
    "print(classification_report(articles_test_labels, predictions_tfidf_lr_articles, target_names=target_names))\n",
    "plot_confusion_matrix(articles_test_labels, predictions_tfidf_lr_articles, target_names, title='Confusion Matrix for TF-IDF Logistic Regression Articles')"
   ],
   "metadata": {
    "collapsed": false
   }
  },
  {
   "cell_type": "code",
   "execution_count": null,
   "outputs": [],
   "source": [
    "print(\"Baseline for sentences:\")\n",
    "predictions_dummy_sentences = dummy_predictor.evaluate(sentences_test_data)\n",
    "print(classification_report(sentences_test_labels, predictions_dummy_sentences, target_names=target_names))\n",
    "plot_confusion_matrix(sentences_test_labels, predictions_dummy_sentences, target_names, title='Confusion Matrix for Baseline Sentences')"
   ],
   "metadata": {
    "collapsed": false
   }
  },
  {
   "cell_type": "code",
   "execution_count": null,
   "outputs": [],
   "source": [
    "print(\"MultinomialNB for sentences:\")\n",
    "predictions_mnb_sentences = train_and_evaluate_multinomial_nb(sentences_training_data, sentences_training_labels, sentences_test_data)\n",
    "print(classification_report(sentences_test_labels, predictions_mnb_sentences, target_names=target_names))\n",
    "plot_confusion_matrix(sentences_test_labels, predictions_mnb_sentences, target_names, title='Confusion Matrix for MultinomialNB Sentences')"
   ],
   "metadata": {
    "collapsed": false
   }
  },
  {
   "cell_type": "code",
   "execution_count": null,
   "outputs": [],
   "source": [
    "print(\"Logistic Regression for sentences:\")\n",
    "predictions_lr_sentences = train_and_evaluate_logistic_regression(sentences_training_data, sentences_training_labels, sentences_test_data)\n",
    "print(classification_report(sentences_test_labels, predictions_mnb_sentences, target_names=target_names))\n",
    "plot_confusion_matrix(sentences_test_labels, predictions_lr_sentences, target_names, title='Confusion Matrix for Logistic Regression Sentences')"
   ],
   "metadata": {
    "collapsed": false
   }
  },
  {
   "cell_type": "code",
   "execution_count": null,
   "outputs": [],
   "source": [
    "print(\"TF-IDF Logistic Regression for sentences:\")\n",
    "predictions_tfidf_lr_sentences = train_and_evaluate_tfidf_logistic_regression(sentences_training_data, sentences_training_labels, sentences_test_data)\n",
    "print(classification_report(sentences_test_labels, predictions_tfidf_lr_sentences, target_names=target_names))\n",
    "plot_confusion_matrix(sentences_test_labels, predictions_tfidf_lr_sentences, target_names, title='Confusion Matrix for TF-IDF Logistic Regression Sentences')"
   ],
   "metadata": {
    "collapsed": false
   }
  },
  {
   "cell_type": "code",
   "execution_count": null,
   "outputs": [],
   "source": [
    "def plot_performance_metrics(reports, model_names):\n",
    "    metrics = ['precision', 'recall', 'f1-score']\n",
    "    data = []\n",
    "\n",
    "    for report in reports:\n",
    "        scores = report['macro avg']\n",
    "        data.append([scores[metric] for metric in metrics])\n",
    "\n",
    "    df = pd.DataFrame(data, columns=metrics, index=model_names)\n",
    "    ax = df.plot(kind='bar', figsize=(10, 6))\n",
    "    plt.title('Performance Metrics Comparison')\n",
    "    plt.xlabel('Models')\n",
    "    plt.ylabel('Score')\n",
    "    plt.legend(loc='upper left')\n",
    "\n",
    "    # Adjust y-axis limits\n",
    "    plt.ylim(0.3, 1)\n",
    "\n",
    "    plt.show()"
   ],
   "metadata": {
    "collapsed": false
   }
  },
  {
   "cell_type": "code",
   "execution_count": null,
   "outputs": [],
   "source": [
    "report_dummy_articles = classification_report(articles_test_labels, predictions_dummy_articles, output_dict=True)\n",
    "report_mnb_articles = classification_report(articles_test_labels, predictions_mnb_articles, output_dict=True)\n",
    "report_lr_articles = classification_report(articles_test_labels, predictions_lr_articles, output_dict=True)\n",
    "report_tfidf_lr_articles = classification_report(articles_test_labels, predictions_tfidf_lr_articles, output_dict=True)\n",
    "\n",
    "report_dummy_sentences = classification_report(sentences_test_labels, predictions_dummy_sentences, output_dict=True)\n",
    "report_mnb_sentences = classification_report(sentences_test_labels, predictions_mnb_sentences, output_dict=True)\n",
    "report_lr_sentences = classification_report(sentences_test_labels, predictions_lr_sentences, output_dict=True)\n",
    "report_tfidf_lr_sentences = classification_report(sentences_test_labels, predictions_tfidf_lr_sentences, output_dict=True)\n",
    "\n",
    "articles_reports = [\n",
    "    report_dummy_articles,\n",
    "    report_mnb_articles,\n",
    "    report_lr_articles,\n",
    "    report_tfidf_lr_articles,\n",
    "]\n",
    "\n",
    "sentences_reports = [\n",
    "    report_dummy_sentences,\n",
    "    report_mnb_sentences,\n",
    "    report_lr_sentences,\n",
    "    report_tfidf_lr_sentences,\n",
    "]\n",
    "\n",
    "model_names = [\n",
    "    'Baseline',\n",
    "    'MultinomialNB',\n",
    "    'Logistic Regression',\n",
    "    'TF-IDF Logistic Regression',\n",
    "]"
   ],
   "metadata": {
    "collapsed": false
   }
  },
  {
   "cell_type": "code",
   "execution_count": null,
   "outputs": [],
   "source": [
    "plot_performance_metrics(articles_reports, model_names)"
   ],
   "metadata": {
    "collapsed": false
   }
  },
  {
   "cell_type": "code",
   "execution_count": null,
   "outputs": [],
   "source": [
    "plot_performance_metrics(sentences_reports, model_names)"
   ],
   "metadata": {
    "collapsed": false
   }
  }
 ],
 "metadata": {
  "kernelspec": {
   "display_name": "Python 3",
   "language": "python",
   "name": "python3"
  },
  "language_info": {
   "codemirror_mode": {
    "name": "ipython",
    "version": 2
   },
   "file_extension": ".py",
   "mimetype": "text/x-python",
   "name": "python",
   "nbconvert_exporter": "python",
   "pygments_lexer": "ipython2",
   "version": "2.7.6"
  }
 },
 "nbformat": 4,
 "nbformat_minor": 0
}
