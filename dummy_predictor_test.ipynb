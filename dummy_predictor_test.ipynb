{
 "cells": [
  {
   "cell_type": "code",
   "execution_count": 1,
   "outputs": [],
   "source": [
    "from dummy_predictor import DummyPredictor"
   ],
   "metadata": {
    "collapsed": false
   }
  },
  {
   "cell_type": "code",
   "execution_count": 6,
   "outputs": [
    {
     "name": "stdout",
     "output_type": "stream",
     "text": [
      "[(BIG TECH & STARTUPS, 0.05), (SCIENCE & FUTURISTIC TECHNOLOGY, 0.0), (PROGRAMMING, DESIGN & DATA SCIENCE, 0.03333333333333333)]\n"
     ]
    }
   ],
   "source": [
    "dummy_predictor = DummyPredictor()\n",
    "print(dummy_predictor.predict(\"Google announces a new breakthrough in distributed systems.\"))"
   ],
   "metadata": {
    "collapsed": false
   }
  },
  {
   "cell_type": "code",
   "execution_count": 7,
   "outputs": [
    {
     "name": "stdout",
     "output_type": "stream",
     "text": [
      "[(BIG TECH & STARTUPS, 0.1), (SCIENCE & FUTURISTIC TECHNOLOGY, 0.0), (PROGRAMMING, DESIGN & DATA SCIENCE, 0.0)]\n"
     ]
    }
   ],
   "source": [
    "print(dummy_predictor.predict(\"Apple has announced their newest iPhone model, featuring improved battery life and an upgraded camera.\"))"
   ],
   "metadata": {
    "collapsed": false
   }
  },
  {
   "cell_type": "code",
   "execution_count": 10,
   "outputs": [
    {
     "name": "stdout",
     "output_type": "stream",
     "text": [
      "[(BIG TECH & STARTUPS, 0.0), (SCIENCE & FUTURISTIC TECHNOLOGY, 0.1111111111111111), (PROGRAMMING, DESIGN & DATA SCIENCE, 0.0)]\n"
     ]
    }
   ],
   "source": [
    "print(dummy_predictor.predict(\"Researchers have developed a new solar panel technology that significantly increases energy efficiency and reduces costs.\"))"
   ],
   "metadata": {
    "collapsed": false
   }
  },
  {
   "cell_type": "code",
   "execution_count": 9,
   "outputs": [
    {
     "name": "stdout",
     "output_type": "stream",
     "text": [
      "[(BIG TECH & STARTUPS, 0.0), (SCIENCE & FUTURISTIC TECHNOLOGY, 0.05555555555555555), (PROGRAMMING, DESIGN & DATA SCIENCE, 0.13333333333333333)]\n"
     ]
    }
   ],
   "source": [
    "print(dummy_predictor.predict(\"Python continues to be a popular programming language for data science and machine learning applications.\"))"
   ],
   "metadata": {
    "collapsed": false
   }
  }
 ],
 "metadata": {
  "kernelspec": {
   "display_name": "Python 3",
   "language": "python",
   "name": "python3"
  },
  "language_info": {
   "codemirror_mode": {
    "name": "ipython",
    "version": 2
   },
   "file_extension": ".py",
   "mimetype": "text/x-python",
   "name": "python",
   "nbconvert_exporter": "python",
   "pygments_lexer": "ipython2",
   "version": "2.7.6"
  }
 },
 "nbformat": 4,
 "nbformat_minor": 0
}
